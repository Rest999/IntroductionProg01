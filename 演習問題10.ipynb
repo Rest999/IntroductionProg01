{
  "nbformat": 4,
  "nbformat_minor": 0,
  "metadata": {
    "kernelspec": {
      "display_name": "Python 3",
      "language": "python",
      "name": "python3"
    },
    "language_info": {
      "codemirror_mode": {
        "name": "ipython",
        "version": 3
      },
      "file_extension": ".py",
      "mimetype": "text/x-python",
      "name": "python",
      "nbconvert_exporter": "python",
      "pygments_lexer": "ipython3",
      "version": "3.7.6"
    },
    "colab": {
      "name": "演習問題10.ipynb",
      "provenance": [],
      "collapsed_sections": []
    }
  },
  "cells": [
    {
      "cell_type": "code",
      "metadata": {
        "id": "oJRpGWdNnGph"
      },
      "source": [
        "# テキストファイルへの書き出しについて\n",
        "work = [\"りんご\",\"ゴリラ\"]\n",
        "fname = \"work.txt\"\n",
        "with open(fname,\"w\") as f:\n",
        "    f.write(\"このファイルのタイトル\\n\")  # 最初の行にタイトルを書く\n",
        "    for w in work:\n",
        "        f.write(w+\"\\n\")  # 一行ずつ書き出し"
      ],
      "execution_count": null,
      "outputs": []
    },
    {
      "cell_type": "code",
      "metadata": {
        "id": "lhAiAqQ6ysXp"
      },
      "source": [
        "import requests\n",
        "from bs4 import BeautifulSoup"
      ],
      "execution_count": null,
      "outputs": []
    },
    {
      "cell_type": "code",
      "metadata": {
        "id": "A_oi4H1Cys7L"
      },
      "source": [
        "url = \"https://www.aozora.gr.jp/index_pages/person118.html\"\n",
        "res = requests.get(url)"
      ],
      "execution_count": null,
      "outputs": []
    },
    {
      "cell_type": "code",
      "source": [
        "res.encoding = res.apparent_encoding  # 文字化け予防\n",
        "res.text"
      ],
      "metadata": {
        "colab": {
          "base_uri": "https://localhost:8080/",
          "height": 252
        },
        "id": "72yo6kfG5mSx",
        "outputId": "60b72f61-d400-403a-aa7e-b8ddad61e384"
      },
      "execution_count": null,
      "outputs": [
        {
          "output_type": "execute_result",
          "data": {
            "text/plain": [
              "'<html lang=\"ja\">\\n<head>\\n<meta http-equiv=\"Content-Type\" content=\"text/html;charset=utf-8\">\\n<meta http-equiv=\"Content-Style-Type\" content=\"text/css\">\\n<title>作家別作品リスト：長塚 節</title>\\n<style type=\"text/css\">\\n<!--\\nbody{\\n    margin-left: 10%;\\n    margin-right: 10%;\\n    margin-bottom: 5%;\\n    line-height: 150%;\\n}\\na:hover{\\n    color: white;\\n    background-color: #0000ff;\\n}\\nh1{\\n    color: black;\\n    background-color: #ffffcc;\\n    padding: 10pt;\\n    border-color: black;\\n    border-width: 1pt 0 1pt 0;\\n    border-style: solid none solid none;\\n    font-size: 150%;\\n}\\nh2{\\n    color: black;\\n    background-color: #d3d3d3;\\n    padding: 5pt;\\n    border-color: black;\\n    border-width: 1pt 0 1pt 0;\\n    border-style: solid none solid none;\\n    text-indent: 1em;\\n}\\ntable{\\n    margin-left: 1em;\\n    padding: 0.5em 0em 0.5em 1em;\\n}\\ntable.download{\\n    color: black;\\n    margin-left: 0;\\n    padding: 0;\\n}\\nth.download{\\n    font-weight: bold;\\n    background-color: black;\\n    color: white;\\n}\\ntd{\\n    line-height:150%;\\n}\\ntd.header{\\n    vertical-align: top;\\n    font-weight: bold;\\n    width: 8em;\\n    color: #a52a2a;\\n}\\nol{\\n    padding: 0.5em 0em 0.5em 2em;\\n    margin-left: 2em;\\n    line-height: 150%;\\n}\\ndiv.copyright{\\n    background-color: white;\\n    margin: 0.5em 0em 0.5em 2em;\\n}\\nspan.current{\\n    font-weight: bold;\\n    color: red;\\n}\\n-->\\n</style>\\n</head>\\n\\n<body text=\"#000000\" bgcolor=\"#f0f8ff\" link=\"#0000ff\" vlink=\"#00008B\" alink=\"#ff0000\">\\n\\n<a name=\"top\">&nbsp;</a>\\n\\n<div align=\"right\">●<a href=\"../index.html\">トップ</a>\\u3000●<a href=\"index_top.html\">インデックス</a>／<a href=\"index_all.html\">全</a>\\u3000●作家リスト：<a href=\"person_na.html#sec1\">公開</a>／<a href=\"person_inp_na.html#sec1\">作業</a>／<a href=\"person_all_na.html#sec1\">全</a>\\u3000●<span class=\"current\">作家別作品リスト</span></div>\\n\\n<div align=\"center\"><h1>作家別作品リスト：No.118</h1></div>\\n\\n<table summary=\"作家データ\">\\n<tr><td class=\"header\">作家名：</td><td><font size=\"+2\">長塚 節</font></td></tr>\\n<tr><td class=\"header\">作家名読み：</td><td>ながつか たかし</td></tr>\\n<tr><td class=\"header\">ローマ字表記：</td><td>Nagatsuka, Takashi</td></tr>\\n<tr><td class=\"header\">生年：</td><td>1879-04-03</td></tr>\\n<tr><td class=\"header\">没年：</td><td>1915-02-08</td></tr>\\n<tr><td class=\"header\">人物について：</td><td>歌人、小説家。茨城県結城郡の豪農の家に生まれ、３歳のときすでに百人一首を暗誦できたとの言い伝えがある。長じて正岡子規の門下に入り、『馬酔木』『アララギ』に多数の短歌を発表した。30代前半に東京朝日新聞に連載した小説「土」は日本の農民文学を確立した作品といわれる。結核のために37歳の若さで死去。<br><a href=\"http://ja.wikipedia.org/\" target=\"_blank\"><img align=\"middle\" src=\"../images/wikipedia_logo_rounded.png\" width=\"110\" height=\"32\" border=\"0\" alt=\"wikipediaアイコン\"></a>「<a href=\"http://ja.wikipedia.org/wiki/%E9%95%B7%E5%A1%9A%E7%AF%80\" target=\"_blank\">長塚節</a>」</td></tr>\\n</table>\\n\\n\\n\\n<hr>\\n\\n<div align=\"right\">\\n［<a href=\"#sakuhin_list_1\">公開中の作品</a>｜<a href=\"#sakuhin_list_2\">作業中の作品</a>］\\n</div>\\n\\n<h2><a name=\"sakuhin_list_1\">公開中の作品</a></h2>\\n\\n<ol>\\n<li><a href=\"../cards/000118/card4609.html\">壱岐国勝本にて</a>\\u3000（旧字旧仮名、作品ID：4609）\\u3000</li> \\n<li><a href=\"../cards/000118/card4615.html\">芋掘り</a>\\u3000（旧字旧仮名、作品ID：4615）\\u3000</li> \\n<li><a href=\"../cards/000118/card4517.html\">鉛筆日抄</a>\\u3000（旧字旧仮名、作品ID：4517）\\u3000</li> \\n<li><a href=\"../cards/000118/card48211.html\">おふさ</a>\\u3000（旧字旧仮名、作品ID：48211）\\u3000</li> \\n<li><a href=\"../cards/000118/card48224.html\">開業医</a>\\u3000（旧字旧仮名、作品ID：48224）\\u3000</li> \\n<li><a href=\"../cards/000118/card57445.html\">簡易銷夏法</a>\\u3000（旧字旧仮名、作品ID：57445）\\u3000</li> \\n<li><a href=\"../cards/000118/card49769.html\">記憶のまゝ</a>\\u3000（旧字旧仮名、作品ID：49769）\\u3000</li> \\n<li><a href=\"../cards/000118/card4515.html\">痍のあと</a>\\u3000（旧字旧仮名、作品ID：4515）\\u3000</li> \\n<li><a href=\"../cards/000118/card48225.html\">教師</a>\\u3000（旧字旧仮名、作品ID：48225）\\u3000</li> \\n<li><a href=\"../cards/000118/card49770.html\">草津行</a>\\u3000（旧字旧仮名、作品ID：49770）\\u3000</li> \\n<li><a href=\"../cards/000118/card4495.html\">栗毛虫</a>\\u3000（旧字旧仮名、作品ID：4495）\\u3000</li> \\n<li><a href=\"../cards/000118/card4612.html\">撃剣興行</a>\\u3000（旧字旧仮名、作品ID：4612）\\u3000</li> \\n<li><a href=\"../cards/000118/card4499.html\">才丸行き</a>\\u3000（旧字旧仮名、作品ID：4499）\\u3000</li> \\n<li><a href=\"../cards/000118/card4520.html\">佐渡が島</a>\\u3000（旧字旧仮名、作品ID：4520）\\u3000</li> \\n<li><a href=\"../cards/000118/card48213.html\">佐渡が島</a>\\u3000波の上（旧字旧仮名、作品ID：48213）\\u3000</li> \\n<li><a href=\"../cards/000118/card57446.html\">写生断片</a>\\u3000（旧字旧仮名、作品ID：57446）\\u3000</li> \\n<li><a href=\"../cards/000118/card4616.html\">商機</a>\\u3000（旧字旧仮名、作品ID：4616）\\u3000</li> \\n<li><a href=\"../cards/000118/card3540.html\">しらくちの花</a>\\u3000（新字旧仮名、作品ID：3540）\\u3000</li> \\n<li><a href=\"../cards/000118/card4525.html\">白瓜と青瓜</a>\\u3000（旧字旧仮名、作品ID：4525）\\u3000</li> \\n<li><a href=\"../cards/000118/card4521.html\">白甜瓜</a>\\u3000（旧字旧仮名、作品ID：4521）\\u3000</li> \\n<li><a href=\"../cards/000118/card48212.html\">須磨明石</a>\\u3000（旧字旧仮名、作品ID：48212）\\u3000</li> \\n<li><a href=\"../cards/000118/card2545.html\">炭焼のむすめ</a>\\u3000（旧字旧仮名、作品ID：2545）\\u3000</li> \\n<li><a href=\"../cards/000118/card4608.html\">対州厳原港にて</a>\\u3000（旧字旧仮名、作品ID：4608）\\u3000</li> \\n<li><a href=\"../cards/000118/card57447.html\">竹の里人〔一〕</a>\\u3000（旧字旧仮名、作品ID：57447）\\u3000</li> \\n<li><a href=\"../cards/000118/card57473.html\">竹の里人〔三〕</a>\\u3000（旧字旧仮名、作品ID：57473）\\u3000</li> \\n<li><a href=\"../cards/000118/card57472.html\">竹の里人〔二〕</a>\\u3000（旧字旧仮名、作品ID：57472）\\u3000</li> \\n<li><a href=\"../cards/000118/card2952.html\">太十と其犬</a>\\u3000（新字新仮名、作品ID：2952）\\u3000</li> \\n<li><a href=\"../cards/000118/card4523.html\">旅の日記</a>\\u3000（旧字旧仮名、作品ID：4523）\\u3000</li> \\n<li><a href=\"../cards/000118/card49771.html\">知己の第一人</a>\\u3000（旧字旧仮名、作品ID：49771）\\u3000</li> \\n<li><a href=\"../cards/000118/card4496.html\">月見の夕</a>\\u3000（旧字旧仮名、作品ID：4496）\\u3000</li> \\n<li><a href=\"../cards/000118/card1745.html\">土</a>\\u3000（旧字旧仮名、作品ID：1745）\\u3000</li> \\n<li><a href=\"../cards/000118/card4497.html\">土浦の川口</a>\\u3000（旧字旧仮名、作品ID：4497）\\u3000</li> \\n<li><a href=\"../cards/000118/card4611.html\">十日間</a>\\u3000（旧字旧仮名、作品ID：4611）\\u3000</li> \\n<li><a href=\"../cards/000118/card4498.html\">利根川の一夜</a>\\u3000（旧字旧仮名、作品ID：4498）\\u3000</li> \\n<li><a href=\"../cards/000118/card613.html\">長塚節歌集</a>\\u30001\\u3000上（旧字旧仮名、作品ID：613）\\u3000</li> \\n<li><a href=\"../cards/000118/card614.html\">長塚節歌集</a>\\u30002\\u3000中（旧字旧仮名、作品ID：614）\\u3000</li> \\n<li><a href=\"../cards/000118/card615.html\">長塚節歌集</a>\\u30003\\u3000下（旧字旧仮名、作品ID：615）\\u3000</li> \\n<li><a href=\"../cards/000118/card616.html\">長塚節句集</a>\\u3000（旧字旧仮名、作品ID：616）\\u3000</li> \\n<li><a href=\"../cards/000118/card4524.html\">菜の花</a>\\u3000（旧字旧仮名、作品ID：4524）\\u3000</li> \\n<li><a href=\"../cards/000118/card4516.html\">浜の冬</a>\\u3000（旧字旧仮名、作品ID：4516）\\u3000</li> \\n<li><a href=\"../cards/000118/card4519.html\">菠薐草</a>\\u3000（旧字旧仮名、作品ID：4519）\\u3000</li> \\n<li><a href=\"../cards/000118/card4522.html\">松虫草</a>\\u3000（旧字旧仮名、作品ID：4522）\\u3000</li> \\n<li><a href=\"../cards/000118/card4518.html\">弥彦山</a>\\u3000（旧字旧仮名、作品ID：4518）\\u3000</li> \\n<li><a href=\"../cards/000118/card57448.html\">旅行に就いて</a>\\u3000（旧字旧仮名、作品ID：57448）\\u3000</li> \\n<li><a href=\"../cards/000118/card3211.html\">隣室の客</a>\\u3000（新字旧仮名、作品ID：3211）\\u3000</li> \\n<li><a href=\"../cards/000118/card4610.html\">我が庭</a>\\u3000（旧字旧仮名、作品ID：4610）\\u3000</li> \\n\\n</ol>\\n\\n<h2><a name=\"sakuhin_list_2\">作業中の作品</a></h2>\\n\\n<ol>\\n\\n</ol>\\n\\n<h2>関連サイト</h2>\\n\\n\\n\\n<div align=\"right\"><a href=\"#top\">▲</a></div>\\n\\n<hr>\\n\\n<div>●作家リスト：公開中\\u3000\\n<a href=\"person_a.html\">[あ]</a>\\n<a href=\"person_ka.html\">[か]</a>\\n<a href=\"person_sa.html\">[さ]</a>\\n<a href=\"person_ta.html\">[た]</a>\\n<a href=\"person_na.html\">[な]</a>\\n<a href=\"person_ha.html\">[は]</a>\\n<a href=\"person_ma.html\">[ま]</a>\\n<a href=\"person_ya.html\">[や]</a>\\n<a href=\"person_ra.html\">[ら]</a>\\n<a href=\"person_wa.html\">[わ]</a>\\n<a href=\"person_zz.html\">[他]</a><br>\\n●作家リスト：作業中\\u3000\\n<a href=\"person_inp_a.html\">[あ]</a>\\n<a href=\"person_inp_ka.html\">[か]</a>\\n<a href=\"person_inp_sa.html\">[さ]</a>\\n<a href=\"person_inp_ta.html\">[た]</a>\\n<a href=\"person_inp_na.html\">[な]</a>\\n<a href=\"person_inp_ha.html\">[は]</a>\\n<a href=\"person_inp_ma.html\">[ま]</a>\\n<a href=\"person_inp_ya.html\">[や]</a>\\n<a href=\"person_inp_ra.html\">[ら]</a>\\n<a href=\"person_inp_wa.html\">[わ]</a>\\n<a href=\"person_inp_zz.html\">[他]</a><br>\\n●作家リスト：全\\u3000\\u3000\\u3000\\n<a href=\"person_all_a.html\">[あ]</a>\\n<a href=\"person_all_ka.html\">[か]</a>\\n<a href=\"person_all_sa.html\">[さ]</a>\\n<a href=\"person_all_ta.html\">[た]</a>\\n<a href=\"person_all_na.html\">[な]</a>\\n<a href=\"person_all_ha.html\">[は]</a>\\n<a href=\"person_all_ma.html\">[ま]</a>\\n<a href=\"person_all_ya.html\">[や]</a>\\n<a href=\"person_all_ra.html\">[ら]</a>\\n<a href=\"person_all_wa.html\">[わ]</a>\\n<a href=\"person_all_zz.html\">[他]</a><br>\\n●<a href=\"../index.html\">トップ</a>\\u3000●<a href=\"index_top.html\">インデックス</a>／<a href=\"index_all.html\">全</a></div>\\n\\n</body>\\n</html>'"
            ],
            "application/vnd.google.colaboratory.intrinsic+json": {
              "type": "string"
            }
          },
          "metadata": {},
          "execution_count": 4
        }
      ]
    },
    {
      "cell_type": "code",
      "source": [
        "soup = BeautifulSoup(res.content,\"html.parser\")"
      ],
      "metadata": {
        "id": "BO6oeYtp5mgB"
      },
      "execution_count": null,
      "outputs": []
    },
    {
      "cell_type": "code",
      "source": [
        "soup"
      ],
      "metadata": {
        "colab": {
          "base_uri": "https://localhost:8080/"
        },
        "id": "qsnNZ5MW6RY8",
        "outputId": "05fc54b0-e4bc-46a8-8ade-cc2232f24202"
      },
      "execution_count": null,
      "outputs": [
        {
          "output_type": "execute_result",
          "data": {
            "text/plain": [
              "<html lang=\"ja\">\n",
              "<head>\n",
              "<meta content=\"text/html;charset=utf-8\" http-equiv=\"Content-Type\"/>\n",
              "<meta content=\"text/css\" http-equiv=\"Content-Style-Type\"/>\n",
              "<title>作家別作品リスト：長塚 節</title>\n",
              "<style type=\"text/css\">\n",
              "<!--\n",
              "body{\n",
              "    margin-left: 10%;\n",
              "    margin-right: 10%;\n",
              "    margin-bottom: 5%;\n",
              "    line-height: 150%;\n",
              "}\n",
              "a:hover{\n",
              "    color: white;\n",
              "    background-color: #0000ff;\n",
              "}\n",
              "h1{\n",
              "    color: black;\n",
              "    background-color: #ffffcc;\n",
              "    padding: 10pt;\n",
              "    border-color: black;\n",
              "    border-width: 1pt 0 1pt 0;\n",
              "    border-style: solid none solid none;\n",
              "    font-size: 150%;\n",
              "}\n",
              "h2{\n",
              "    color: black;\n",
              "    background-color: #d3d3d3;\n",
              "    padding: 5pt;\n",
              "    border-color: black;\n",
              "    border-width: 1pt 0 1pt 0;\n",
              "    border-style: solid none solid none;\n",
              "    text-indent: 1em;\n",
              "}\n",
              "table{\n",
              "    margin-left: 1em;\n",
              "    padding: 0.5em 0em 0.5em 1em;\n",
              "}\n",
              "table.download{\n",
              "    color: black;\n",
              "    margin-left: 0;\n",
              "    padding: 0;\n",
              "}\n",
              "th.download{\n",
              "    font-weight: bold;\n",
              "    background-color: black;\n",
              "    color: white;\n",
              "}\n",
              "td{\n",
              "    line-height:150%;\n",
              "}\n",
              "td.header{\n",
              "    vertical-align: top;\n",
              "    font-weight: bold;\n",
              "    width: 8em;\n",
              "    color: #a52a2a;\n",
              "}\n",
              "ol{\n",
              "    padding: 0.5em 0em 0.5em 2em;\n",
              "    margin-left: 2em;\n",
              "    line-height: 150%;\n",
              "}\n",
              "div.copyright{\n",
              "    background-color: white;\n",
              "    margin: 0.5em 0em 0.5em 2em;\n",
              "}\n",
              "span.current{\n",
              "    font-weight: bold;\n",
              "    color: red;\n",
              "}\n",
              "-->\n",
              "</style>\n",
              "</head>\n",
              "<body alink=\"#ff0000\" bgcolor=\"#f0f8ff\" link=\"#0000ff\" text=\"#000000\" vlink=\"#00008B\">\n",
              "<a name=\"top\"> </a>\n",
              "<div align=\"right\">●<a href=\"../index.html\">トップ</a>　●<a href=\"index_top.html\">インデックス</a>／<a href=\"index_all.html\">全</a>　●作家リスト：<a href=\"person_na.html#sec1\">公開</a>／<a href=\"person_inp_na.html#sec1\">作業</a>／<a href=\"person_all_na.html#sec1\">全</a>　●<span class=\"current\">作家別作品リスト</span></div>\n",
              "<div align=\"center\"><h1>作家別作品リスト：No.118</h1></div>\n",
              "<table summary=\"作家データ\">\n",
              "<tr><td class=\"header\">作家名：</td><td><font size=\"+2\">長塚 節</font></td></tr>\n",
              "<tr><td class=\"header\">作家名読み：</td><td>ながつか たかし</td></tr>\n",
              "<tr><td class=\"header\">ローマ字表記：</td><td>Nagatsuka, Takashi</td></tr>\n",
              "<tr><td class=\"header\">生年：</td><td>1879-04-03</td></tr>\n",
              "<tr><td class=\"header\">没年：</td><td>1915-02-08</td></tr>\n",
              "<tr><td class=\"header\">人物について：</td><td>歌人、小説家。茨城県結城郡の豪農の家に生まれ、３歳のときすでに百人一首を暗誦できたとの言い伝えがある。長じて正岡子規の門下に入り、『馬酔木』『アララギ』に多数の短歌を発表した。30代前半に東京朝日新聞に連載した小説「土」は日本の農民文学を確立した作品といわれる。結核のために37歳の若さで死去。<br/><a href=\"http://ja.wikipedia.org/\" target=\"_blank\"><img align=\"middle\" alt=\"wikipediaアイコン\" border=\"0\" height=\"32\" src=\"../images/wikipedia_logo_rounded.png\" width=\"110\"/></a>「<a href=\"http://ja.wikipedia.org/wiki/%E9%95%B7%E5%A1%9A%E7%AF%80\" target=\"_blank\">長塚節</a>」</td></tr>\n",
              "</table>\n",
              "<hr/>\n",
              "<div align=\"right\">\n",
              "［<a href=\"#sakuhin_list_1\">公開中の作品</a>｜<a href=\"#sakuhin_list_2\">作業中の作品</a>］\n",
              "</div>\n",
              "<h2><a name=\"sakuhin_list_1\">公開中の作品</a></h2>\n",
              "<ol>\n",
              "<li><a href=\"../cards/000118/card4609.html\">壱岐国勝本にて</a>　（旧字旧仮名、作品ID：4609）　</li>\n",
              "<li><a href=\"../cards/000118/card4615.html\">芋掘り</a>　（旧字旧仮名、作品ID：4615）　</li>\n",
              "<li><a href=\"../cards/000118/card4517.html\">鉛筆日抄</a>　（旧字旧仮名、作品ID：4517）　</li>\n",
              "<li><a href=\"../cards/000118/card48211.html\">おふさ</a>　（旧字旧仮名、作品ID：48211）　</li>\n",
              "<li><a href=\"../cards/000118/card48224.html\">開業医</a>　（旧字旧仮名、作品ID：48224）　</li>\n",
              "<li><a href=\"../cards/000118/card57445.html\">簡易銷夏法</a>　（旧字旧仮名、作品ID：57445）　</li>\n",
              "<li><a href=\"../cards/000118/card49769.html\">記憶のまゝ</a>　（旧字旧仮名、作品ID：49769）　</li>\n",
              "<li><a href=\"../cards/000118/card4515.html\">痍のあと</a>　（旧字旧仮名、作品ID：4515）　</li>\n",
              "<li><a href=\"../cards/000118/card48225.html\">教師</a>　（旧字旧仮名、作品ID：48225）　</li>\n",
              "<li><a href=\"../cards/000118/card49770.html\">草津行</a>　（旧字旧仮名、作品ID：49770）　</li>\n",
              "<li><a href=\"../cards/000118/card4495.html\">栗毛虫</a>　（旧字旧仮名、作品ID：4495）　</li>\n",
              "<li><a href=\"../cards/000118/card4612.html\">撃剣興行</a>　（旧字旧仮名、作品ID：4612）　</li>\n",
              "<li><a href=\"../cards/000118/card4499.html\">才丸行き</a>　（旧字旧仮名、作品ID：4499）　</li>\n",
              "<li><a href=\"../cards/000118/card4520.html\">佐渡が島</a>　（旧字旧仮名、作品ID：4520）　</li>\n",
              "<li><a href=\"../cards/000118/card48213.html\">佐渡が島</a>　波の上（旧字旧仮名、作品ID：48213）　</li>\n",
              "<li><a href=\"../cards/000118/card57446.html\">写生断片</a>　（旧字旧仮名、作品ID：57446）　</li>\n",
              "<li><a href=\"../cards/000118/card4616.html\">商機</a>　（旧字旧仮名、作品ID：4616）　</li>\n",
              "<li><a href=\"../cards/000118/card3540.html\">しらくちの花</a>　（新字旧仮名、作品ID：3540）　</li>\n",
              "<li><a href=\"../cards/000118/card4525.html\">白瓜と青瓜</a>　（旧字旧仮名、作品ID：4525）　</li>\n",
              "<li><a href=\"../cards/000118/card4521.html\">白甜瓜</a>　（旧字旧仮名、作品ID：4521）　</li>\n",
              "<li><a href=\"../cards/000118/card48212.html\">須磨明石</a>　（旧字旧仮名、作品ID：48212）　</li>\n",
              "<li><a href=\"../cards/000118/card2545.html\">炭焼のむすめ</a>　（旧字旧仮名、作品ID：2545）　</li>\n",
              "<li><a href=\"../cards/000118/card4608.html\">対州厳原港にて</a>　（旧字旧仮名、作品ID：4608）　</li>\n",
              "<li><a href=\"../cards/000118/card57447.html\">竹の里人〔一〕</a>　（旧字旧仮名、作品ID：57447）　</li>\n",
              "<li><a href=\"../cards/000118/card57473.html\">竹の里人〔三〕</a>　（旧字旧仮名、作品ID：57473）　</li>\n",
              "<li><a href=\"../cards/000118/card57472.html\">竹の里人〔二〕</a>　（旧字旧仮名、作品ID：57472）　</li>\n",
              "<li><a href=\"../cards/000118/card2952.html\">太十と其犬</a>　（新字新仮名、作品ID：2952）　</li>\n",
              "<li><a href=\"../cards/000118/card4523.html\">旅の日記</a>　（旧字旧仮名、作品ID：4523）　</li>\n",
              "<li><a href=\"../cards/000118/card49771.html\">知己の第一人</a>　（旧字旧仮名、作品ID：49771）　</li>\n",
              "<li><a href=\"../cards/000118/card4496.html\">月見の夕</a>　（旧字旧仮名、作品ID：4496）　</li>\n",
              "<li><a href=\"../cards/000118/card1745.html\">土</a>　（旧字旧仮名、作品ID：1745）　</li>\n",
              "<li><a href=\"../cards/000118/card4497.html\">土浦の川口</a>　（旧字旧仮名、作品ID：4497）　</li>\n",
              "<li><a href=\"../cards/000118/card4611.html\">十日間</a>　（旧字旧仮名、作品ID：4611）　</li>\n",
              "<li><a href=\"../cards/000118/card4498.html\">利根川の一夜</a>　（旧字旧仮名、作品ID：4498）　</li>\n",
              "<li><a href=\"../cards/000118/card613.html\">長塚節歌集</a>　1　上（旧字旧仮名、作品ID：613）　</li>\n",
              "<li><a href=\"../cards/000118/card614.html\">長塚節歌集</a>　2　中（旧字旧仮名、作品ID：614）　</li>\n",
              "<li><a href=\"../cards/000118/card615.html\">長塚節歌集</a>　3　下（旧字旧仮名、作品ID：615）　</li>\n",
              "<li><a href=\"../cards/000118/card616.html\">長塚節句集</a>　（旧字旧仮名、作品ID：616）　</li>\n",
              "<li><a href=\"../cards/000118/card4524.html\">菜の花</a>　（旧字旧仮名、作品ID：4524）　</li>\n",
              "<li><a href=\"../cards/000118/card4516.html\">浜の冬</a>　（旧字旧仮名、作品ID：4516）　</li>\n",
              "<li><a href=\"../cards/000118/card4519.html\">菠薐草</a>　（旧字旧仮名、作品ID：4519）　</li>\n",
              "<li><a href=\"../cards/000118/card4522.html\">松虫草</a>　（旧字旧仮名、作品ID：4522）　</li>\n",
              "<li><a href=\"../cards/000118/card4518.html\">弥彦山</a>　（旧字旧仮名、作品ID：4518）　</li>\n",
              "<li><a href=\"../cards/000118/card57448.html\">旅行に就いて</a>　（旧字旧仮名、作品ID：57448）　</li>\n",
              "<li><a href=\"../cards/000118/card3211.html\">隣室の客</a>　（新字旧仮名、作品ID：3211）　</li>\n",
              "<li><a href=\"../cards/000118/card4610.html\">我が庭</a>　（旧字旧仮名、作品ID：4610）　</li>\n",
              "</ol>\n",
              "<h2><a name=\"sakuhin_list_2\">作業中の作品</a></h2>\n",
              "<ol>\n",
              "</ol>\n",
              "<h2>関連サイト</h2>\n",
              "<div align=\"right\"><a href=\"#top\">▲</a></div>\n",
              "<hr/>\n",
              "<div>●作家リスト：公開中　\n",
              "<a href=\"person_a.html\">[あ]</a>\n",
              "<a href=\"person_ka.html\">[か]</a>\n",
              "<a href=\"person_sa.html\">[さ]</a>\n",
              "<a href=\"person_ta.html\">[た]</a>\n",
              "<a href=\"person_na.html\">[な]</a>\n",
              "<a href=\"person_ha.html\">[は]</a>\n",
              "<a href=\"person_ma.html\">[ま]</a>\n",
              "<a href=\"person_ya.html\">[や]</a>\n",
              "<a href=\"person_ra.html\">[ら]</a>\n",
              "<a href=\"person_wa.html\">[わ]</a>\n",
              "<a href=\"person_zz.html\">[他]</a><br/>\n",
              "●作家リスト：作業中　\n",
              "<a href=\"person_inp_a.html\">[あ]</a>\n",
              "<a href=\"person_inp_ka.html\">[か]</a>\n",
              "<a href=\"person_inp_sa.html\">[さ]</a>\n",
              "<a href=\"person_inp_ta.html\">[た]</a>\n",
              "<a href=\"person_inp_na.html\">[な]</a>\n",
              "<a href=\"person_inp_ha.html\">[は]</a>\n",
              "<a href=\"person_inp_ma.html\">[ま]</a>\n",
              "<a href=\"person_inp_ya.html\">[や]</a>\n",
              "<a href=\"person_inp_ra.html\">[ら]</a>\n",
              "<a href=\"person_inp_wa.html\">[わ]</a>\n",
              "<a href=\"person_inp_zz.html\">[他]</a><br/>\n",
              "●作家リスト：全　　　\n",
              "<a href=\"person_all_a.html\">[あ]</a>\n",
              "<a href=\"person_all_ka.html\">[か]</a>\n",
              "<a href=\"person_all_sa.html\">[さ]</a>\n",
              "<a href=\"person_all_ta.html\">[た]</a>\n",
              "<a href=\"person_all_na.html\">[な]</a>\n",
              "<a href=\"person_all_ha.html\">[は]</a>\n",
              "<a href=\"person_all_ma.html\">[ま]</a>\n",
              "<a href=\"person_all_ya.html\">[や]</a>\n",
              "<a href=\"person_all_ra.html\">[ら]</a>\n",
              "<a href=\"person_all_wa.html\">[わ]</a>\n",
              "<a href=\"person_all_zz.html\">[他]</a><br/>\n",
              "●<a href=\"../index.html\">トップ</a>　●<a href=\"index_top.html\">インデックス</a>／<a href=\"index_all.html\">全</a></div>\n",
              "</body>\n",
              "</html>"
            ]
          },
          "metadata": {},
          "execution_count": 6
        }
      ]
    },
    {
      "cell_type": "code",
      "source": [
        "li_list = soup.find_all(\"li\")\n",
        "li_list"
      ],
      "metadata": {
        "colab": {
          "base_uri": "https://localhost:8080/"
        },
        "id": "rV6VOpBh6d3w",
        "outputId": "4da5e6ac-1c36-49ba-ec1e-8fcee352d007"
      },
      "execution_count": null,
      "outputs": [
        {
          "output_type": "execute_result",
          "data": {
            "text/plain": [
              "[<li><a href=\"../cards/000118/card4609.html\">壱岐国勝本にて</a>　（旧字旧仮名、作品ID：4609）　</li>,\n",
              " <li><a href=\"../cards/000118/card4615.html\">芋掘り</a>　（旧字旧仮名、作品ID：4615）　</li>,\n",
              " <li><a href=\"../cards/000118/card4517.html\">鉛筆日抄</a>　（旧字旧仮名、作品ID：4517）　</li>,\n",
              " <li><a href=\"../cards/000118/card48211.html\">おふさ</a>　（旧字旧仮名、作品ID：48211）　</li>,\n",
              " <li><a href=\"../cards/000118/card48224.html\">開業医</a>　（旧字旧仮名、作品ID：48224）　</li>,\n",
              " <li><a href=\"../cards/000118/card57445.html\">簡易銷夏法</a>　（旧字旧仮名、作品ID：57445）　</li>,\n",
              " <li><a href=\"../cards/000118/card49769.html\">記憶のまゝ</a>　（旧字旧仮名、作品ID：49769）　</li>,\n",
              " <li><a href=\"../cards/000118/card4515.html\">痍のあと</a>　（旧字旧仮名、作品ID：4515）　</li>,\n",
              " <li><a href=\"../cards/000118/card48225.html\">教師</a>　（旧字旧仮名、作品ID：48225）　</li>,\n",
              " <li><a href=\"../cards/000118/card49770.html\">草津行</a>　（旧字旧仮名、作品ID：49770）　</li>,\n",
              " <li><a href=\"../cards/000118/card4495.html\">栗毛虫</a>　（旧字旧仮名、作品ID：4495）　</li>,\n",
              " <li><a href=\"../cards/000118/card4612.html\">撃剣興行</a>　（旧字旧仮名、作品ID：4612）　</li>,\n",
              " <li><a href=\"../cards/000118/card4499.html\">才丸行き</a>　（旧字旧仮名、作品ID：4499）　</li>,\n",
              " <li><a href=\"../cards/000118/card4520.html\">佐渡が島</a>　（旧字旧仮名、作品ID：4520）　</li>,\n",
              " <li><a href=\"../cards/000118/card48213.html\">佐渡が島</a>　波の上（旧字旧仮名、作品ID：48213）　</li>,\n",
              " <li><a href=\"../cards/000118/card57446.html\">写生断片</a>　（旧字旧仮名、作品ID：57446）　</li>,\n",
              " <li><a href=\"../cards/000118/card4616.html\">商機</a>　（旧字旧仮名、作品ID：4616）　</li>,\n",
              " <li><a href=\"../cards/000118/card3540.html\">しらくちの花</a>　（新字旧仮名、作品ID：3540）　</li>,\n",
              " <li><a href=\"../cards/000118/card4525.html\">白瓜と青瓜</a>　（旧字旧仮名、作品ID：4525）　</li>,\n",
              " <li><a href=\"../cards/000118/card4521.html\">白甜瓜</a>　（旧字旧仮名、作品ID：4521）　</li>,\n",
              " <li><a href=\"../cards/000118/card48212.html\">須磨明石</a>　（旧字旧仮名、作品ID：48212）　</li>,\n",
              " <li><a href=\"../cards/000118/card2545.html\">炭焼のむすめ</a>　（旧字旧仮名、作品ID：2545）　</li>,\n",
              " <li><a href=\"../cards/000118/card4608.html\">対州厳原港にて</a>　（旧字旧仮名、作品ID：4608）　</li>,\n",
              " <li><a href=\"../cards/000118/card57447.html\">竹の里人〔一〕</a>　（旧字旧仮名、作品ID：57447）　</li>,\n",
              " <li><a href=\"../cards/000118/card57473.html\">竹の里人〔三〕</a>　（旧字旧仮名、作品ID：57473）　</li>,\n",
              " <li><a href=\"../cards/000118/card57472.html\">竹の里人〔二〕</a>　（旧字旧仮名、作品ID：57472）　</li>,\n",
              " <li><a href=\"../cards/000118/card2952.html\">太十と其犬</a>　（新字新仮名、作品ID：2952）　</li>,\n",
              " <li><a href=\"../cards/000118/card4523.html\">旅の日記</a>　（旧字旧仮名、作品ID：4523）　</li>,\n",
              " <li><a href=\"../cards/000118/card49771.html\">知己の第一人</a>　（旧字旧仮名、作品ID：49771）　</li>,\n",
              " <li><a href=\"../cards/000118/card4496.html\">月見の夕</a>　（旧字旧仮名、作品ID：4496）　</li>,\n",
              " <li><a href=\"../cards/000118/card1745.html\">土</a>　（旧字旧仮名、作品ID：1745）　</li>,\n",
              " <li><a href=\"../cards/000118/card4497.html\">土浦の川口</a>　（旧字旧仮名、作品ID：4497）　</li>,\n",
              " <li><a href=\"../cards/000118/card4611.html\">十日間</a>　（旧字旧仮名、作品ID：4611）　</li>,\n",
              " <li><a href=\"../cards/000118/card4498.html\">利根川の一夜</a>　（旧字旧仮名、作品ID：4498）　</li>,\n",
              " <li><a href=\"../cards/000118/card613.html\">長塚節歌集</a>　1　上（旧字旧仮名、作品ID：613）　</li>,\n",
              " <li><a href=\"../cards/000118/card614.html\">長塚節歌集</a>　2　中（旧字旧仮名、作品ID：614）　</li>,\n",
              " <li><a href=\"../cards/000118/card615.html\">長塚節歌集</a>　3　下（旧字旧仮名、作品ID：615）　</li>,\n",
              " <li><a href=\"../cards/000118/card616.html\">長塚節句集</a>　（旧字旧仮名、作品ID：616）　</li>,\n",
              " <li><a href=\"../cards/000118/card4524.html\">菜の花</a>　（旧字旧仮名、作品ID：4524）　</li>,\n",
              " <li><a href=\"../cards/000118/card4516.html\">浜の冬</a>　（旧字旧仮名、作品ID：4516）　</li>,\n",
              " <li><a href=\"../cards/000118/card4519.html\">菠薐草</a>　（旧字旧仮名、作品ID：4519）　</li>,\n",
              " <li><a href=\"../cards/000118/card4522.html\">松虫草</a>　（旧字旧仮名、作品ID：4522）　</li>,\n",
              " <li><a href=\"../cards/000118/card4518.html\">弥彦山</a>　（旧字旧仮名、作品ID：4518）　</li>,\n",
              " <li><a href=\"../cards/000118/card57448.html\">旅行に就いて</a>　（旧字旧仮名、作品ID：57448）　</li>,\n",
              " <li><a href=\"../cards/000118/card3211.html\">隣室の客</a>　（新字旧仮名、作品ID：3211）　</li>,\n",
              " <li><a href=\"../cards/000118/card4610.html\">我が庭</a>　（旧字旧仮名、作品ID：4610）　</li>]"
            ]
          },
          "metadata": {},
          "execution_count": 7
        }
      ]
    },
    {
      "cell_type": "code",
      "source": [
        "temp = []\n",
        "for elm in soup.find_all(\"li\"):\n",
        "    x = elm.find(\"a\")\n",
        "    if x:  \n",
        "        temp.append(x)\n",
        "temp"
      ],
      "metadata": {
        "colab": {
          "base_uri": "https://localhost:8080/"
        },
        "id": "YL-RJK8h6fsS",
        "outputId": "615a7113-2af3-47dd-dbc7-5cb44a4998cc"
      },
      "execution_count": null,
      "outputs": [
        {
          "output_type": "execute_result",
          "data": {
            "text/plain": [
              "[<a href=\"../cards/000118/card4609.html\">壱岐国勝本にて</a>,\n",
              " <a href=\"../cards/000118/card4615.html\">芋掘り</a>,\n",
              " <a href=\"../cards/000118/card4517.html\">鉛筆日抄</a>,\n",
              " <a href=\"../cards/000118/card48211.html\">おふさ</a>,\n",
              " <a href=\"../cards/000118/card48224.html\">開業医</a>,\n",
              " <a href=\"../cards/000118/card57445.html\">簡易銷夏法</a>,\n",
              " <a href=\"../cards/000118/card49769.html\">記憶のまゝ</a>,\n",
              " <a href=\"../cards/000118/card4515.html\">痍のあと</a>,\n",
              " <a href=\"../cards/000118/card48225.html\">教師</a>,\n",
              " <a href=\"../cards/000118/card49770.html\">草津行</a>,\n",
              " <a href=\"../cards/000118/card4495.html\">栗毛虫</a>,\n",
              " <a href=\"../cards/000118/card4612.html\">撃剣興行</a>,\n",
              " <a href=\"../cards/000118/card4499.html\">才丸行き</a>,\n",
              " <a href=\"../cards/000118/card4520.html\">佐渡が島</a>,\n",
              " <a href=\"../cards/000118/card48213.html\">佐渡が島</a>,\n",
              " <a href=\"../cards/000118/card57446.html\">写生断片</a>,\n",
              " <a href=\"../cards/000118/card4616.html\">商機</a>,\n",
              " <a href=\"../cards/000118/card3540.html\">しらくちの花</a>,\n",
              " <a href=\"../cards/000118/card4525.html\">白瓜と青瓜</a>,\n",
              " <a href=\"../cards/000118/card4521.html\">白甜瓜</a>,\n",
              " <a href=\"../cards/000118/card48212.html\">須磨明石</a>,\n",
              " <a href=\"../cards/000118/card2545.html\">炭焼のむすめ</a>,\n",
              " <a href=\"../cards/000118/card4608.html\">対州厳原港にて</a>,\n",
              " <a href=\"../cards/000118/card57447.html\">竹の里人〔一〕</a>,\n",
              " <a href=\"../cards/000118/card57473.html\">竹の里人〔三〕</a>,\n",
              " <a href=\"../cards/000118/card57472.html\">竹の里人〔二〕</a>,\n",
              " <a href=\"../cards/000118/card2952.html\">太十と其犬</a>,\n",
              " <a href=\"../cards/000118/card4523.html\">旅の日記</a>,\n",
              " <a href=\"../cards/000118/card49771.html\">知己の第一人</a>,\n",
              " <a href=\"../cards/000118/card4496.html\">月見の夕</a>,\n",
              " <a href=\"../cards/000118/card1745.html\">土</a>,\n",
              " <a href=\"../cards/000118/card4497.html\">土浦の川口</a>,\n",
              " <a href=\"../cards/000118/card4611.html\">十日間</a>,\n",
              " <a href=\"../cards/000118/card4498.html\">利根川の一夜</a>,\n",
              " <a href=\"../cards/000118/card613.html\">長塚節歌集</a>,\n",
              " <a href=\"../cards/000118/card614.html\">長塚節歌集</a>,\n",
              " <a href=\"../cards/000118/card615.html\">長塚節歌集</a>,\n",
              " <a href=\"../cards/000118/card616.html\">長塚節句集</a>,\n",
              " <a href=\"../cards/000118/card4524.html\">菜の花</a>,\n",
              " <a href=\"../cards/000118/card4516.html\">浜の冬</a>,\n",
              " <a href=\"../cards/000118/card4519.html\">菠薐草</a>,\n",
              " <a href=\"../cards/000118/card4522.html\">松虫草</a>,\n",
              " <a href=\"../cards/000118/card4518.html\">弥彦山</a>,\n",
              " <a href=\"../cards/000118/card57448.html\">旅行に就いて</a>,\n",
              " <a href=\"../cards/000118/card3211.html\">隣室の客</a>,\n",
              " <a href=\"../cards/000118/card4610.html\">我が庭</a>]"
            ]
          },
          "metadata": {},
          "execution_count": 8
        }
      ]
    },
    {
      "cell_type": "code",
      "source": [
        "BookList = []\n",
        "for x in temp:\n",
        "    name = x.text\n",
        "    href = x[\"href\"]\n",
        "    BookList.append(f\"{name}>{href}\")\n",
        "BookList"
      ],
      "metadata": {
        "colab": {
          "base_uri": "https://localhost:8080/"
        },
        "id": "-ATxICC461Ev",
        "outputId": "ca0d3f85-3ade-454a-bd2f-69635127dc13"
      },
      "execution_count": null,
      "outputs": [
        {
          "output_type": "execute_result",
          "data": {
            "text/plain": [
              "['壱岐国勝本にて>../cards/000118/card4609.html',\n",
              " '芋掘り>../cards/000118/card4615.html',\n",
              " '鉛筆日抄>../cards/000118/card4517.html',\n",
              " 'おふさ>../cards/000118/card48211.html',\n",
              " '開業医>../cards/000118/card48224.html',\n",
              " '簡易銷夏法>../cards/000118/card57445.html',\n",
              " '記憶のまゝ>../cards/000118/card49769.html',\n",
              " '痍のあと>../cards/000118/card4515.html',\n",
              " '教師>../cards/000118/card48225.html',\n",
              " '草津行>../cards/000118/card49770.html',\n",
              " '栗毛虫>../cards/000118/card4495.html',\n",
              " '撃剣興行>../cards/000118/card4612.html',\n",
              " '才丸行き>../cards/000118/card4499.html',\n",
              " '佐渡が島>../cards/000118/card4520.html',\n",
              " '佐渡が島>../cards/000118/card48213.html',\n",
              " '写生断片>../cards/000118/card57446.html',\n",
              " '商機>../cards/000118/card4616.html',\n",
              " 'しらくちの花>../cards/000118/card3540.html',\n",
              " '白瓜と青瓜>../cards/000118/card4525.html',\n",
              " '白甜瓜>../cards/000118/card4521.html',\n",
              " '須磨明石>../cards/000118/card48212.html',\n",
              " '炭焼のむすめ>../cards/000118/card2545.html',\n",
              " '対州厳原港にて>../cards/000118/card4608.html',\n",
              " '竹の里人〔一〕>../cards/000118/card57447.html',\n",
              " '竹の里人〔三〕>../cards/000118/card57473.html',\n",
              " '竹の里人〔二〕>../cards/000118/card57472.html',\n",
              " '太十と其犬>../cards/000118/card2952.html',\n",
              " '旅の日記>../cards/000118/card4523.html',\n",
              " '知己の第一人>../cards/000118/card49771.html',\n",
              " '月見の夕>../cards/000118/card4496.html',\n",
              " '土>../cards/000118/card1745.html',\n",
              " '土浦の川口>../cards/000118/card4497.html',\n",
              " '十日間>../cards/000118/card4611.html',\n",
              " '利根川の一夜>../cards/000118/card4498.html',\n",
              " '長塚節歌集>../cards/000118/card613.html',\n",
              " '長塚節歌集>../cards/000118/card614.html',\n",
              " '長塚節歌集>../cards/000118/card615.html',\n",
              " '長塚節句集>../cards/000118/card616.html',\n",
              " '菜の花>../cards/000118/card4524.html',\n",
              " '浜の冬>../cards/000118/card4516.html',\n",
              " '菠薐草>../cards/000118/card4519.html',\n",
              " '松虫草>../cards/000118/card4522.html',\n",
              " '弥彦山>../cards/000118/card4518.html',\n",
              " '旅行に就いて>../cards/000118/card57448.html',\n",
              " '隣室の客>../cards/000118/card3211.html',\n",
              " '我が庭>../cards/000118/card4610.html']"
            ]
          },
          "metadata": {},
          "execution_count": 9
        }
      ]
    },
    {
      "cell_type": "code",
      "source": [
        "work = BookList\n",
        "fname = \"work.txt\"\n",
        "with open(fname,\"w\") as f:\n",
        "    f.write(\"\t長塚 節\\n\")\n",
        "    for w in work:\n",
        "        f.write(w+\"\\n\")"
      ],
      "metadata": {
        "id": "eaGamJb061SJ"
      },
      "execution_count": null,
      "outputs": []
    }
  ]
}